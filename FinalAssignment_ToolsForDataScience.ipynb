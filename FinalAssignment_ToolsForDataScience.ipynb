{
 "cells": [
  {
   "cell_type": "markdown",
   "id": "879545d4-8d44-4310-85a7-7a779b598806",
   "metadata": {
    "tags": []
   },
   "source": [
    "# My Jupyter Notebook on IBM Watson Studio"
   ]
  },
  {
   "cell_type": "markdown",
   "id": "e3629dcf-b30e-4a40-8af5-8d38103fc605",
   "metadata": {
    "tags": []
   },
   "source": [
    "**Juan Ignacio Pereyra**\\\n",
    "Biotechnologyst"
   ]
  },
  {
   "cell_type": "markdown",
   "id": "a8bec311-9947-4bf5-8b43-29d7765940bc",
   "metadata": {
    "tags": []
   },
   "source": [
    "*I am interested in Data Science because I want to be able to work with big amount on data in an easy way and have the tools and the knowledge to extract all the information contained in a data set.*"
   ]
  },
  {
   "cell_type": "markdown",
   "id": "4007837a-7b2e-475f-a99c-51d48fbd649e",
   "metadata": {
    "tags": []
   },
   "source": [
    "### This code below will perform a sum: "
   ]
  },
  {
   "cell_type": "code",
   "execution_count": 1,
   "id": "c6af4137-4a5e-4278-8768-e0f7635354dc",
   "metadata": {},
   "outputs": [
    {
     "data": {
      "text/plain": [
       "30"
      ]
     },
     "execution_count": 1,
     "metadata": {},
     "output_type": "execute_result"
    }
   ],
   "source": [
    "7+23"
   ]
  },
  {
   "cell_type": "markdown",
   "id": "13d3d839-640a-4c60-b950-54e0fda6f4b2",
   "metadata": {},
   "source": [
    "1. List\n",
    "2. Horizontal rule\n",
    "\n",
    "---\n",
    "\n",
    "\n",
    "3. Hyperlink: \n",
    "<https://www.science.org/doi/10.1126/science.ade2315>"
   ]
  }
 ],
 "metadata": {
  "kernelspec": {
   "display_name": "Python",
   "language": "python",
   "name": "conda-env-python-py"
  },
  "language_info": {
   "codemirror_mode": {
    "name": "ipython",
    "version": 3
   },
   "file_extension": ".py",
   "mimetype": "text/x-python",
   "name": "python",
   "nbconvert_exporter": "python",
   "pygments_lexer": "ipython3",
   "version": "3.7.12"
  }
 },
 "nbformat": 4,
 "nbformat_minor": 5
}
